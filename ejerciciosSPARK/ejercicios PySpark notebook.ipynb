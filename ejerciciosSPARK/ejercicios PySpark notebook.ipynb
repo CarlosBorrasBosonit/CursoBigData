{
 "cells": [
  {
   "cell_type": "code",
   "execution_count": null,
   "id": "8dff85c9",
   "metadata": {},
   "outputs": [],
   "source": [
    "#2. Capítulo 3\n",
    "\n",
    "#   a. Realizar todos los ejercicios propuestos de libro\n",
    "\n",
    "#   b. Leer el CSV del ejemplo del cap2 y obtener la estructura del schema dado por \n",
    "#   defecto.\n",
    "\n",
    "#   c. Cuando se define un schema al definir un campo por ejemplo StructField('Delay', \n",
    "#   FloatType(), True) ¿qué significa el último parámetro Boolean?\n",
    "\n",
    "#   d. Dataset vs DataFrame (Scala). ¿En qué se diferencian a nivel de código?\n",
    "\n",
    "#   e. Utilizando el mismo ejemplo utilizado en el capítulo para guardar en parquet y \n",
    "#   guardar los datos en los formatos:\n",
    "#      i. JSON\n",
    "#      ii. CSV (dándole otro nombre para evitar sobrescribir el fichero origen)\n",
    "#      iii. AVRO\n",
    "\n",
    "#   f. Revisar al guardar los ficheros (p.e. json, csv, etc) el número de ficheros \n",
    "#   creados, revisar su contenido para comprender (constatar) como se guardan.\n",
    "#      i. ¿A qué se debe que hayan más de un fichero?\n",
    "#      ii. ¿Cómo obtener el número de particiones de un DataFrame?\n",
    "#      iii. ¿Qué formas existen para modificar el número de particiones de un \n",
    "#      DataFrame?\n",
    "#      iv. Llevar a cabo el ejemplo modificando el número de particiones a 1 y \n",
    "#      revisar de nuevo el/los ficheros guardados."
   ]
  },
  {
   "cell_type": "code",
   "execution_count": 41,
   "id": "90d285d7",
   "metadata": {},
   "outputs": [
    {
     "name": "stdout",
     "output_type": "stream",
     "text": [
      "+---+---------+-------+-----------------+---------+-----+--------------------+\n",
      "| Id|    First|  Lastk|              Url|Published| Hits|           Campaigns|\n",
      "+---+---------+-------+-----------------+---------+-----+--------------------+\n",
      "|  1|    Jules|  Damji|https://tinyurl.1| 1/4/2016| 4535| [twitter, LinkedIn]|\n",
      "|  2|   Brooke|  Wenig|https://tinyurl.2| 5/5/2018| 8908| [twitter, LinkedIn]|\n",
      "|  3|    Denny|    Lee|https://tinyurl.3| 6/7/2019| 7659|[web, twitter, FB...|\n",
      "|  4|Tathagata|    Das|https://tinyurl.4|5/12/2018|10568|       [twitter, FB]|\n",
      "|  5|    Matei|Zaharia|https://tinyurl.5|5/14/2014|40578|[web, twitter, FB...|\n",
      "|  6|  Reynold|    Xin|https://tinyurl.6| 3/2/2015|25568| [twitter, LinkedIn]|\n",
      "+---+---------+-------+-----------------+---------+-----+--------------------+\n",
      "\n",
      "root\n",
      " |-- Id: integer (nullable = true)\n",
      " |-- First: string (nullable = true)\n",
      " |-- Lastk: string (nullable = true)\n",
      " |-- Url: string (nullable = true)\n",
      " |-- Published: string (nullable = true)\n",
      " |-- Hits: integer (nullable = true)\n",
      " |-- Campaigns: array (nullable = true)\n",
      " |    |-- element: string (containsNull = true)\n",
      "\n",
      "None\n"
     ]
    }
   ],
   "source": [
    "# A.\n",
    "# In Python \n",
    "import sys\n",
    "from pyspark.sql import SparkSession\n",
    "from pyspark.sql.types import *\n",
    "from pyspark.sql.functions import *\n",
    "\n",
    "# Define schema for our data using DDL \n",
    "schema = StructType([StructField(\"Id\",IntegerType(),True),\n",
    "StructField(\"First\",StringType(),True),\n",
    "StructField(\"Lastk\",StringType(),True),\n",
    "StructField(\"Url\", StringType(), True),\n",
    "StructField(\"Published\", StringType(), True),\n",
    "StructField(\"Hits\", IntegerType(), True),\n",
    "StructField(\"Campaigns\",ArrayType(StringType()), True)\n",
    "])\n",
    "# Create our static data\n",
    "data = [[1, \"Jules\", \"Damji\", \"https://tinyurl.1\", \"1/4/2016\", 4535, [\"twitter\", \"LinkedIn\"]],\n",
    " [2, \"Brooke\",\"Wenig\", \"https://tinyurl.2\", \"5/5/2018\", 8908, [\"twitter\", \"LinkedIn\"]],\n",
    " [3, \"Denny\", \"Lee\", \"https://tinyurl.3\", \"6/7/2019\", 7659, [\"web\",\"twitter\", \"FB\", \"LinkedIn\"]],\n",
    " [4, \"Tathagata\", \"Das\", \"https://tinyurl.4\", \"5/12/2018\", 10568,[\"twitter\", \"FB\"]],\n",
    " [5, \"Matei\",\"Zaharia\", \"https://tinyurl.5\", \"5/14/2014\", 40578, [\"web\",\"twitter\", \"FB\", \"LinkedIn\"]],\n",
    " [6, \"Reynold\", \"Xin\", \"https://tinyurl.6\", \"3/2/2015\", 25568,[\"twitter\", \"LinkedIn\"]]]\n",
    "# Main program\n",
    "if __name__ == \"__main__\":\n",
    " # Create a SparkSession\n",
    " spark = (SparkSession\n",
    " .builder\n",
    " .appName(\"Example-3_6\")\n",
    " .getOrCreate())\n",
    " # Create a DataFrame using the schema defined above\n",
    " blogs_df = spark.createDataFrame(data, schema)\n",
    " # Show the DataFrame; it should reflect our table above\n",
    " blogs_df.show()\n",
    " # Print the schema used by Spark to process the DataFrame\n",
    " print(blogs_df.printSchema())"
   ]
  },
  {
   "cell_type": "code",
   "execution_count": 1,
   "id": "449725a3",
   "metadata": {},
   "outputs": [],
   "source": [
    "import findspark\n",
    "findspark.init()"
   ]
  },
  {
   "cell_type": "code",
   "execution_count": 3,
   "id": "9cf9526e",
   "metadata": {},
   "outputs": [],
   "source": [
    "from pyspark.sql import SparkSession\n",
    "from pyspark.sql.types import *\n",
    "from pyspark.sql.functions import *\n",
    "\n",
    "spark = SparkSession.builder.appName(\"Chapter-3\").getOrCreate()\n",
    "    \n",
    "\n",
    "# Get the path to the CSV file\n",
    "csvFile = \"C://Users//carlos.borras//Downloads//sf-fire-calls.csv\"\n",
    "\n",
    "\n",
    "fire_schema = StructType([StructField('CallNumber', IntegerType(), True),\n",
    "StructField('UnitID', StringType(), True),\n",
    "StructField('IncidentNumber', IntegerType(), True),\n",
    "StructField('CallType', StringType(), True),\n",
    "StructField('CallDate', StringType(), True),\n",
    "StructField('WatchDate', StringType(), True),\n",
    "StructField('CallFinalDisposition', StringType(), True),\n",
    "StructField('AvailableDtTm', StringType(), True),\n",
    "StructField('Address', StringType(), True),\n",
    "StructField('City', StringType(), True),\n",
    "StructField('Zipcode', IntegerType(), True),\n",
    "StructField('Battalion', StringType(), True),\n",
    "StructField('StationArea', StringType(), True),\n",
    "StructField('Box', StringType(), True),\n",
    "StructField('OriginalPriority', StringType(), True),\n",
    "StructField('Priority', StringType(), True),\n",
    "StructField('FinalPriority', IntegerType(), True),\n",
    "StructField('ALSUnit', BooleanType(), True),\n",
    "StructField('CallTypeGroup', StringType(), True),\n",
    "StructField('NumAlarms', IntegerType(), True),\n",
    "StructField('UnitType', StringType(), True),\n",
    "StructField('UnitSequenceInCallDispatch', IntegerType(), True),\n",
    "StructField('FirePreventionDistrict', StringType(), True),\n",
    "StructField('SupervisorDistrict', StringType(), True),\n",
    "StructField('Neighborhood', StringType(), True),\n",
    "StructField('Location', StringType(), True),\n",
    "StructField('RowID', StringType(), True),\n",
    "StructField('Delay', FloatType(), True)])\n",
    "\n",
    "\n",
    "df_firecalls = spark.read.csv(csvFile, header=True, schema=fire_schema)\n",
    "# OTRA FORMA: schema = \"`Id` INT,`First` STRING,`Last` STRING,`Url` STRING,`Published` STRING,`Hits` INT,`Campaigns` ARRAY<STRING>\"\n",
    "#OJO CUIDAO LAS COMILLAS"
   ]
  },
  {
   "cell_type": "code",
   "execution_count": 4,
   "id": "f425a0a1",
   "metadata": {},
   "outputs": [
    {
     "data": {
      "text/plain": [
       "DataFrame[CallNumber: int, UnitID: string, IncidentNumber: int, CallType: string, CallDate: string, WatchDate: string, CallFinalDisposition: string, AvailableDtTm: string, Address: string, City: string, Zipcode: int, Battalion: string, StationArea: string, Box: string, OriginalPriority: string, Priority: string, FinalPriority: int, ALSUnit: boolean, CallTypeGroup: string, NumAlarms: int, UnitType: string, UnitSequenceInCallDispatch: int, FirePreventionDistrict: string, SupervisorDistrict: string, Neighborhood: string, Location: string, RowID: string, Delay: float]"
      ]
     },
     "execution_count": 4,
     "metadata": {},
     "output_type": "execute_result"
    }
   ],
   "source": [
    "df_firecalls.cache() #Guardamos en memoria para accesos rápidos y poco costosos"
   ]
  },
  {
   "cell_type": "code",
   "execution_count": 5,
   "id": "87e4fe1a",
   "metadata": {},
   "outputs": [
    {
     "data": {
      "text/plain": [
       "175296"
      ]
     },
     "execution_count": 5,
     "metadata": {},
     "output_type": "execute_result"
    }
   ],
   "source": [
    "df_firecalls.count()"
   ]
  },
  {
   "cell_type": "code",
   "execution_count": 6,
   "id": "4a5e4775",
   "metadata": {},
   "outputs": [
    {
     "name": "stdout",
     "output_type": "stream",
     "text": [
      "root\n",
      " |-- CallNumber: integer (nullable = true)\n",
      " |-- UnitID: string (nullable = true)\n",
      " |-- IncidentNumber: integer (nullable = true)\n",
      " |-- CallType: string (nullable = true)\n",
      " |-- CallDate: string (nullable = true)\n",
      " |-- WatchDate: string (nullable = true)\n",
      " |-- CallFinalDisposition: string (nullable = true)\n",
      " |-- AvailableDtTm: string (nullable = true)\n",
      " |-- Address: string (nullable = true)\n",
      " |-- City: string (nullable = true)\n",
      " |-- Zipcode: integer (nullable = true)\n",
      " |-- Battalion: string (nullable = true)\n",
      " |-- StationArea: string (nullable = true)\n",
      " |-- Box: string (nullable = true)\n",
      " |-- OriginalPriority: string (nullable = true)\n",
      " |-- Priority: string (nullable = true)\n",
      " |-- FinalPriority: integer (nullable = true)\n",
      " |-- ALSUnit: boolean (nullable = true)\n",
      " |-- CallTypeGroup: string (nullable = true)\n",
      " |-- NumAlarms: integer (nullable = true)\n",
      " |-- UnitType: string (nullable = true)\n",
      " |-- UnitSequenceInCallDispatch: integer (nullable = true)\n",
      " |-- FirePreventionDistrict: string (nullable = true)\n",
      " |-- SupervisorDistrict: string (nullable = true)\n",
      " |-- Neighborhood: string (nullable = true)\n",
      " |-- Location: string (nullable = true)\n",
      " |-- RowID: string (nullable = true)\n",
      " |-- Delay: float (nullable = true)\n",
      "\n"
     ]
    }
   ],
   "source": [
    "df_firecalls.printSchema()"
   ]
  },
  {
   "cell_type": "code",
   "execution_count": 12,
   "id": "2e74af53",
   "metadata": {},
   "outputs": [
    {
     "name": "stdout",
     "output_type": "stream",
     "text": [
      "+--------------------------------------------+\n",
      "|Tipo Llamada                                |\n",
      "+--------------------------------------------+\n",
      "|Elevator / Escalator Rescue                 |\n",
      "|Alarms                                      |\n",
      "|Odor (Strange / Unknown)                    |\n",
      "|Citizen Assist / Service Call               |\n",
      "|HazMat                                      |\n",
      "|Watercraft in Distress                      |\n",
      "|Explosion                                   |\n",
      "|Vehicle Fire                                |\n",
      "|Extrication / Entrapped (Machinery, Vehicle)|\n",
      "|Other                                       |\n",
      "|Outside Fire                                |\n",
      "|Traffic Collision                           |\n",
      "|Assist Police                               |\n",
      "|Gas Leak (Natural and LP Gases)             |\n",
      "|Water Rescue                                |\n",
      "|Electrical Hazard                           |\n",
      "|Structure Fire                              |\n",
      "|Industrial Accidents                        |\n",
      "|Medical Incident                            |\n",
      "|Fuel Spill                                  |\n",
      "+--------------------------------------------+\n",
      "only showing top 20 rows\n",
      "\n"
     ]
    }
   ],
   "source": [
    "# - What were all the different types of fire calls in 2018? - SQL\n",
    "df_fechas_tipo = df_firecalls.select(to_date(col(\"CallDate\"), \"MM/dd/yyyy\").alias(\"date\"), col(\"CallType\"))\n",
    "df_fechas_tipo.createOrReplaceTempView(\"tabla_fire_calls\")\n",
    "\n",
    "df_diffCalls = spark.sql(\"SELECT DISTINCT(CallType) AS `Tipo Llamada` FROM tabla_fire_calls WHERE YEAR(date) LIKE 2008\")\n",
    "df_diffCalls.show(truncate=False)   "
   ]
  },
  {
   "cell_type": "code",
   "execution_count": 13,
   "id": "35893cfc",
   "metadata": {},
   "outputs": [
    {
     "name": "stdout",
     "output_type": "stream",
     "text": [
      "+--------------------------------------------+\n",
      "|CallType                                    |\n",
      "+--------------------------------------------+\n",
      "|Elevator / Escalator Rescue                 |\n",
      "|Alarms                                      |\n",
      "|Odor (Strange / Unknown)                    |\n",
      "|Citizen Assist / Service Call               |\n",
      "|HazMat                                      |\n",
      "|Watercraft in Distress                      |\n",
      "|Explosion                                   |\n",
      "|Vehicle Fire                                |\n",
      "|Extrication / Entrapped (Machinery, Vehicle)|\n",
      "|Other                                       |\n",
      "|Outside Fire                                |\n",
      "|Traffic Collision                           |\n",
      "|Assist Police                               |\n",
      "|Gas Leak (Natural and LP Gases)             |\n",
      "|Water Rescue                                |\n",
      "|Electrical Hazard                           |\n",
      "|Structure Fire                              |\n",
      "|Industrial Accidents                        |\n",
      "|Medical Incident                            |\n",
      "|Fuel Spill                                  |\n",
      "|Smoke Investigation (Outside)               |\n",
      "|Train / Rail Incident                       |\n",
      "|High Angle Rescue                           |\n",
      "|Mutual Aid / Assist Outside Agency          |\n",
      "+--------------------------------------------+\n",
      "\n"
     ]
    }
   ],
   "source": [
    "# - What were all the different types of fire calls in 2018? - SPARK SQL\n",
    "\n",
    "df_distinct_calls = df_fechas_tipo.filter(year(col(\"date\")) == 2008).select((col(\"CallType\"))).distinct()\n",
    "df_distinct_calls.show(df_distinct_calls.count(), truncate=False)\n"
   ]
  },
  {
   "cell_type": "code",
   "execution_count": 15,
   "id": "208aba38",
   "metadata": {},
   "outputs": [
    {
     "name": "stdout",
     "output_type": "stream",
     "text": [
      "+-----+-----+\n",
      "|Month|count|\n",
      "+-----+-----+\n",
      "|   10| 1068|\n",
      "|    5| 1047|\n",
      "|    3| 1029|\n",
      "|    8| 1021|\n",
      "|    1| 1007|\n",
      "|    7|  974|\n",
      "|    6|  974|\n",
      "|    9|  951|\n",
      "|    4|  947|\n",
      "|    2|  919|\n",
      "|   11|  199|\n",
      "+-----+-----+\n",
      "\n"
     ]
    }
   ],
   "source": [
    "# - What months within the year 2018 saw the highest number of fire calls?\n",
    "df_months_with_most_calls_sql = spark.sql(\"SELECT MONTH(date) AS Month, COUNT(*) AS count FROM tabla_fire_calls WHERE YEAR(date) LIKE 2018 GROUP BY Month ORDER BY COUNT(*) DESC\")\n",
    "df_months_with_most_calls_sql.show()"
   ]
  },
  {
   "cell_type": "code",
   "execution_count": 17,
   "id": "512db720",
   "metadata": {},
   "outputs": [
    {
     "name": "stdout",
     "output_type": "stream",
     "text": [
      "+---+-----+\n",
      "|Mes|count|\n",
      "+---+-----+\n",
      "| 10| 1068|\n",
      "|  5| 1047|\n",
      "|  3| 1029|\n",
      "|  8| 1021|\n",
      "|  1| 1007|\n",
      "|  7|  974|\n",
      "|  6|  974|\n",
      "|  9|  951|\n",
      "|  4|  947|\n",
      "|  2|  919|\n",
      "| 11|  199|\n",
      "+---+-----+\n",
      "\n"
     ]
    }
   ],
   "source": [
    "# - What months within the year 2018 saw the highest number of fire calls? - PYSPARK SQL\n",
    "df_months_with_most_calls_pyspark = df_fechas_tipo.filter(year(col(\"date\")) == 2018).select(month(col(\"date\")).alias(\"Mes\")).groupBy(\"Mes\").count().orderBy(desc(\"count\"))\n",
    "df_months_with_most_calls_pyspark.show()"
   ]
  },
  {
   "cell_type": "code",
   "execution_count": 40,
   "id": "a2519831",
   "metadata": {},
   "outputs": [
    {
     "name": "stdout",
     "output_type": "stream",
     "text": [
      "+---------------+------------+\n",
      "|Neighborhood   |Num_Llamadas|\n",
      "+---------------+------------+\n",
      "|Tenderloin     |1393        |\n",
      "|South of Market|1053        |\n",
      "|Mission        |913         |\n",
      "+---------------+------------+\n",
      "only showing top 3 rows\n",
      "\n"
     ]
    }
   ],
   "source": [
    "# - Which neighborhood in San Francisco generated the most fire calls in 2018? - SQL \n",
    "callDate_neighborhoods_delay = df_firecalls.select(to_date(col(\"CallDate\"), \"MM/dd/yyyy\").alias(\"date\"), col(\"Neighborhood\"), col(\"Delay\"))\n",
    "callDate_neighborhoods_delay.createOrReplaceTempView(\"callDate_neighborhoods_delay\")\n",
    "df_neighborhood_most_calls = spark.sql(\"SELECT Neighborhood, COUNT(*) AS Num_Llamadas FROM callDate_neighborhoods_delay WHERE YEAR(date) LIKE 2018 GROUP BY Neighborhood ORDER BY Num_Llamadas DESC\")\n",
    "df_neighborhood_most_calls.show(3, truncate=False)"
   ]
  },
  {
   "cell_type": "code",
   "execution_count": 39,
   "id": "c1c62a6b",
   "metadata": {},
   "outputs": [
    {
     "name": "stdout",
     "output_type": "stream",
     "text": [
      "+---------------+------------+\n",
      "|Barrio         |num_llamadas|\n",
      "+---------------+------------+\n",
      "|Tenderloin     |1393        |\n",
      "|South of Market|1053        |\n",
      "|Mission        |913         |\n",
      "+---------------+------------+\n",
      "only showing top 3 rows\n",
      "\n"
     ]
    }
   ],
   "source": [
    "# - Which neighborhood in San Francisco generated the most fire calls in 2018? - PYSPARK SQL (MEJOR GESTION DE ERRORES, MEJOR MANTENIMIENTO)\n",
    "df_neighborhood_most_calls_pyspark = callDate_neighborhoods_delay.filter(year(col(\"date\"))==2018)\\\n",
    "                                                                .select(col(\"Neighborhood\").alias(\"Barrio\"))\\\n",
    "                                                                .groupBy(\"Barrio\")\\\n",
    "                                                                .count().withColumnRenamed(\"count\",\"num_llamadas\")\\\n",
    "                                                                .orderBy(desc(\"num_llamadas\"))\n",
    "df_neighborhood_most_calls_pyspark.show(3, truncate=False)"
   ]
  },
  {
   "cell_type": "code",
   "execution_count": 47,
   "id": "51e0bae7",
   "metadata": {},
   "outputs": [
    {
     "name": "stdout",
     "output_type": "stream",
     "text": [
      "+---------------+-----------------+\n",
      "|Barrio         |Retraso_promedio |\n",
      "+---------------+-----------------+\n",
      "|Chinatown      |6.190314101143033|\n",
      "|Presidio       |5.829227011272873|\n",
      "|Treasure Island|5.453703684111436|\n",
      "+---------------+-----------------+\n",
      "only showing top 3 rows\n",
      "\n"
     ]
    }
   ],
   "source": [
    "# - Which neighborhoods had the worst response times to fire calls in 2018? - PYSPARK SQL\n",
    "\n",
    "df_neighborhoods_worst_delay = callDate_neighborhoods_delay.filter(year(col(\"date\"))==2018).\\\n",
    "                                                            select(col(\"Neighborhood\").alias(\"Barrio\"), col(\"Delay\")).\\\n",
    "                                                            groupBy(\"Barrio\").\\\n",
    "                                                            agg(avg(\"Delay\").alias(\"Retraso_promedio\")).\\\n",
    "                                                            orderBy(desc(\"Retraso_promedio\"))\n",
    "df_neighborhoods_worst_delay.show(3, truncate=False)      \n"
   ]
  },
  {
   "cell_type": "code",
   "execution_count": 48,
   "id": "3281a035",
   "metadata": {},
   "outputs": [
    {
     "name": "stdout",
     "output_type": "stream",
     "text": [
      "+---------------+-----------------+\n",
      "|Barrio         |Retraso_promedio |\n",
      "+---------------+-----------------+\n",
      "|Chinatown      |6.190314101143033|\n",
      "|Presidio       |5.829227011272873|\n",
      "|Treasure Island|5.453703684111436|\n",
      "+---------------+-----------------+\n",
      "only showing top 3 rows\n",
      "\n"
     ]
    }
   ],
   "source": [
    "# - Which neighborhoods had the worst response times to fire calls in 2018? - SQL\n",
    "\n",
    "df_neighborhoods_worst_delay_sql = spark.sql(\"SELECT Neighborhood AS Barrio,\\\n",
    "                                                AVG(Delay) AS Retraso_promedio\\\n",
    "                                                FROM callDate_neighborhoods_delay\\\n",
    "                                                WHERE YEAR(date) LIKE 2018\\\n",
    "                                                GROUP BY Barrio\\\n",
    "                                                ORDER BY Retraso_promedio DESC\")\n",
    "\n",
    "df_neighborhoods_worst_delay_sql.show(3, truncate = False)"
   ]
  },
  {
   "cell_type": "code",
   "execution_count": 57,
   "id": "32fa75bc",
   "metadata": {},
   "outputs": [
    {
     "name": "stdout",
     "output_type": "stream",
     "text": [
      "+------+------------+\n",
      "|Semana|Num_llamadas|\n",
      "+------+------------+\n",
      "|22    |259         |\n",
      "|40    |255         |\n",
      "|43    |250         |\n",
      "+------+------------+\n",
      "only showing top 3 rows\n",
      "\n"
     ]
    }
   ],
   "source": [
    "# - Which week in the year in 2018 had the most fire calls? - SQL\n",
    "\n",
    "df_week_most_calls_sql = spark.sql(\"SELECT weekofyear(date) AS Semana, COUNT(*) AS Num_llamadas\\\n",
    "                                FROM callDate_neighborhoods_delay\\\n",
    "                                WHERE YEAR(date) LIKE 2018\\\n",
    "                                GROUP BY Semana\\\n",
    "                                ORDER BY Num_llamadas DESC\")\n",
    "\n",
    "df_week_most_calls_sql.show(3, truncate = False)\n"
   ]
  },
  {
   "cell_type": "code",
   "execution_count": 59,
   "id": "c9e4d309",
   "metadata": {},
   "outputs": [
    {
     "name": "stdout",
     "output_type": "stream",
     "text": [
      "+------+------------+\n",
      "|Semana|num_llamadas|\n",
      "+------+------------+\n",
      "|22    |259         |\n",
      "|40    |255         |\n",
      "|43    |250         |\n",
      "+------+------------+\n",
      "only showing top 3 rows\n",
      "\n"
     ]
    }
   ],
   "source": [
    "# - Which week in the year in 2018 had the most fire calls? - PYSPARK SQL\n",
    "\n",
    "df_week_most_calls = callDate_neighborhoods_delay.filter(year(col(\"date\"))==2018).\\\n",
    "                                                    select(weekofyear(col(\"date\")).alias(\"Semana\")).\\\n",
    "                                                    groupBy(\"Semana\").\\\n",
    "                                                    count().withColumnRenamed(\"count\", \"num_llamadas\").\\\n",
    "                                                    orderBy(desc(\"num_llamadas\"))\n",
    "    \n",
    "\n",
    "df_week_most_calls.show(3, truncate = False)"
   ]
  },
  {
   "cell_type": "code",
   "execution_count": null,
   "id": "11f69fae",
   "metadata": {},
   "outputs": [],
   "source": []
  }
 ],
 "metadata": {
  "kernelspec": {
   "display_name": "Python 3 (ipykernel)",
   "language": "python",
   "name": "python3"
  },
  "language_info": {
   "codemirror_mode": {
    "name": "ipython",
    "version": 3
   },
   "file_extension": ".py",
   "mimetype": "text/x-python",
   "name": "python",
   "nbconvert_exporter": "python",
   "pygments_lexer": "ipython3",
   "version": "3.9.7"
  }
 },
 "nbformat": 4,
 "nbformat_minor": 5
}
